{
 "cells": [
  {
   "cell_type": "code",
   "execution_count": null,
   "metadata": {},
   "outputs": [],
   "source": [
    "# Libraries\n",
    "\n",
    "import pandas as pd\n",
    "import time\n",
    "import numpy as np\n",
    "import random\n",
    "import os\n",
    "from tqdm import tqdm\n",
    "\n",
    "# Data Analysis\n",
    "import plotly.express as px\n",
    "import matplotlib.pyplot as plt\n",
    "import seaborn as sns\n",
    "\n",
    "#TensorFlow\n",
    "import tensorflow as tf\n",
    "from tensorflow.keras.preprocessing.image import array_to_img\n",
    "\n",
    "# Sklearn\n",
    "from sklearn.metrics import confusion_matrix, classification_report\n",
    "from sklearn.model_selection import train_test_split\n",
    "\n",
    "# Classes Tensorflow\n",
    "from tensorflow.keras.preprocessing.image import ImageDataGenerator\n",
    "from tensorflow.keras.models import Sequential\n",
    "from tensorflow.keras.layers import Dense, Conv2D, Dropout, Flatten, MaxPooling2D\n",
    "from tensorflow.keras.preprocessing import image\n",
    "\n",
    "%matplotlib inline"
   ]
  },
  {
   "cell_type": "code",
   "execution_count": null,
   "metadata": {},
   "outputs": [],
   "source": [
    "## Preprocessing"
   ]
  },
  {
   "cell_type": "code",
   "execution_count": null,
   "metadata": {},
   "outputs": [],
   "source": [
    "train_dir = 'D:/documents/GitHub/Radios_COVID19/COVID-19_Radiography_Dataset'\n",
    "\n",
    "normal_imgs = [fn for fn in os.listdir(f'{train_dir}/Normal/images') if fn.endswith('.png')]\n",
    "covid_imgs = [fn for fn in os.listdir(f'{train_dir}/COVID/images') if fn.endswith('.png')]\n",
    "pneumonia_imgs = [fn for fn in os.listdir(f'{train_dir}/Viral Pneumonia/images') if fn.endswith('.png')]\n",
    "lung_opacity_imgs = [fn for fn in os.listdir(f'{train_dir}/Lung_Opacity/images') if fn.endswith('.png')]"
   ]
  },
  {
   "cell_type": "code",
   "execution_count": null,
   "metadata": {},
   "outputs": [],
   "source": [
    "#Randomly select X of each images\n",
    "random_sample = 400\n",
    "\n",
    "select_norm = np.random.choice(normal_imgs, random_sample, replace = False)\n",
    "select_covid = np.random.choice(covid_imgs, random_sample, replace = False)\n",
    "select_pneumonia = np.random.choice(pneumonia_imgs, random_sample, replace = False)\n",
    "select_lung_opacity = np.random.choice(lung_opacity_imgs, random_sample, replace = False)"
   ]
  },
  {
   "cell_type": "code",
   "execution_count": null,
   "metadata": {},
   "outputs": [],
   "source": [
    "liste = []\n",
    "\n",
    "for fn in select_norm :\n",
    "    liste.append(f'{train_dir}/Normal/images/' + fn)\n",
    "for fn in select_covid :\n",
    "    liste.append(f'{train_dir}/COVID/images/' + fn)\n",
    "for fn in select_pneumonia :\n",
    "    liste.append(f'{train_dir}/Viral Pneumonia/images/' + fn)\n",
    "for fn in select_lung_opacity :\n",
    "    liste.append(f'{train_dir}/Lung_Opacity/images/' + fn)\n",
    "\n",
    "liste = list(map(lambda x : [x, x.split('/')[5]], liste))"
   ]
  },
  {
   "cell_type": "code",
   "execution_count": null,
   "metadata": {},
   "outputs": [],
   "source": [
    "#Créer un DataFrame pandas\n",
    "df = pd.DataFrame(liste, columns = ['filepath', 'nameLabel'])\n",
    "df['label'] = df['nameLabel'].replace(df.nameLabel.unique(), [*range(len(df.nameLabel.unique()))]).astype(str)\n",
    "\n",
    "print('DataFrame size : ', df.shape)\n",
    "print(df['nameLabel'].value_counts())\n",
    "df.head()"
   ]
  },
  {
   "cell_type": "code",
   "execution_count": null,
   "metadata": {},
   "outputs": [],
   "source": [
    "#Charger Exemple Image\n",
    "filepath = df.filepath[9]\n",
    "\n",
    "im = tf.io.read_file(filepath)\n",
    "im = tf.image.decode_jpeg(im, channels = 1)\n",
    "plt.imshow(im)\n",
    "plt.axis('off');"
   ]
  },
  {
   "cell_type": "code",
   "execution_count": null,
   "metadata": {},
   "outputs": [],
   "source": [
    "size = 256 #Image size (depending on model definition)\n",
    "ratio_val = 0.2 #percentage of dataset to be held into test\n",
    "batch_size = 210\n",
    "\n",
    "train_data_generator = ImageDataGenerator( )\n",
    "test_data_generator = ImageDataGenerator( )\n",
    "\n",
    "# Création des itérateurs qui chargeront des lots d'images\n",
    "train, test = train_test_split(df, test_size = ratio_val)\n",
    "\n",
    "print(f\"Number of rows in train set: {len(train)}\")\n",
    "\n",
    "train_generator = train_data_generator.flow_from_dataframe(dataframe = train,\n",
    "                                                           x_col=\"filepath\",\n",
    "                                                           y_col=\"label\",\n",
    "                                                           class_mode = \"sparse\",\n",
    "                                                           target_size = (size,size),\n",
    "                                                           batch_size = batch_size,\n",
    "                                                           color_mode = \"grayscale\")\n",
    "\n",
    "print(f\"Number of rows in test set: {len(test)}\")\n",
    "test_generator = test_data_generator.flow_from_dataframe(dataframe = test,\n",
    "                                                         x_col=\"filepath\",\n",
    "                                                         y_col=\"label\",\n",
    "                                                         class_mode = \"sparse\",\n",
    "                                                         target_size = (size,size),\n",
    "                                                         batch_size = batch_size,\n",
    "                                                         color_mode = \"grayscale\",\n",
    "                                                         shuffle=False) "
   ]
  },
  {
   "cell_type": "code",
   "execution_count": null,
   "metadata": {},
   "outputs": [],
   "source": [
    "## LeNet Model"
   ]
  },
  {
   "cell_type": "code",
   "execution_count": null,
   "metadata": {},
   "outputs": [],
   "source": [
    "# Instanciation modèle séquentiel\n",
    "lenet = Sequential()\n",
    "\n",
    "# Ajout des différentes couches\n",
    "lenet.add(Conv2D(filters = 30 , kernel_size = (5,5), input_shape =[256,256,1], activation = \"relu\"))\n",
    "lenet.add(MaxPooling2D(pool_size = (2,2)))\n",
    "\n",
    "lenet.add(Conv2D(filters = 16, kernel_size = (3,3), activation = \"relu\"))\n",
    "lenet.add(MaxPooling2D(pool_size = (2,2)))\n",
    "\n",
    "lenet.add(Flatten())\n",
    "lenet.add(Dropout(rate = 0.2))\n",
    "\n",
    "lenet.add(Dense(units = 128, activation = \"relu\"))\n",
    "lenet.add(Dense(units = 4, activation = \"softmax\"))\n",
    "\n",
    "lenet.summary()"
   ]
  },
  {
   "cell_type": "code",
   "execution_count": null,
   "metadata": {},
   "outputs": [],
   "source": [
    "# Compilation\n",
    "lenet.compile(loss = \"sparse_categorical_crossentropy\", optimizer = \"Adam\", metrics = [\"accuracy\"])"
   ]
  },
  {
   "cell_type": "code",
   "execution_count": null,
   "metadata": {},
   "outputs": [],
   "source": [
    "# Entrainement du modèle\n",
    "train_size = train_generator.samples\n",
    "test_size = test_generator.samples\n",
    "\n",
    "epochs = 5\n",
    "\n",
    "history = lenet.fit_generator(train_generator,\n",
    "                              epochs = epochs,\n",
    "                              steps_per_epoch = train_size // batch_size,\n",
    "                              validation_data = test_generator,\n",
    "                              validation_steps = test_size // batch_size)"
   ]
  },
  {
   "cell_type": "code",
   "execution_count": null,
   "metadata": {},
   "outputs": [],
   "source": [
    "# Courbes de perte et d'accuracy\n",
    "plt.figure(figsize = (16,5))\n",
    "\n",
    "plt.subplot(121)\n",
    "plt.plot(history.history[\"loss\"], label = \"Train\")\n",
    "plt.plot(history.history[\"val_loss\"], label = \"Test\")\n",
    "plt.legend()\n",
    "plt.xlabel('Epochs')\n",
    "plt.ylabel('Loss')\n",
    "plt.ylim(0,2)\n",
    "\n",
    "plt.subplot(122)\n",
    "plt.plot(history.history[\"accuracy\"], label = \"Train\")\n",
    "plt.plot(history.history[\"val_accuracy\"], label = \"Test\")\n",
    "plt.legend()\n",
    "plt.xlabel('Epochs')\n",
    "plt.ylabel('Accuracy')\n",
    "plt.show();"
   ]
  },
  {
   "cell_type": "code",
   "execution_count": null,
   "metadata": {},
   "outputs": [],
   "source": [
    "## Model Performance"
   ]
  },
  {
   "cell_type": "code",
   "execution_count": null,
   "metadata": {},
   "outputs": [],
   "source": [
    "# Prédictions (probabilités)\n",
    "test_generator.reset()\n",
    "test_pred_lenet = lenet.predict(test_generator, verbose = 1 )"
   ]
  },
  {
   "cell_type": "code",
   "execution_count": null,
   "metadata": {},
   "outputs": [],
   "source": [
    "# Récupération des classes à partir des probabilités\n",
    "test_pred_lenet_class = test_pred_lenet.argmax(axis = 1)\n",
    "\n",
    "# Matrice de confusion\n",
    "print(confusion_matrix(test_generator.classes, test_pred_lenet_class))"
   ]
  },
  {
   "cell_type": "code",
   "execution_count": null,
   "metadata": {},
   "outputs": [],
   "source": [
    "print(classification_report(test_generator.classes, test_pred_lenet_class, target_names=test_generator.class_indices.keys()))"
   ]
  }
 ],
 "metadata": {
  "language_info": {
   "name": "python"
  },
  "orig_nbformat": 4
 },
 "nbformat": 4,
 "nbformat_minor": 2
}
